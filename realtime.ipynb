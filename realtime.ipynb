{
 "cells": [
  {
   "cell_type": "code",
   "execution_count": 1,
   "metadata": {},
   "outputs": [
    {
     "name": "stderr",
     "output_type": "stream",
     "text": [
      "Using TensorFlow backend.\n"
     ]
    }
   ],
   "source": [
    "import cv2\n",
    "from keras.models import load_model\n",
    "from tensorflow.keras import layers\n",
    "from tensorflow.keras.models import Sequential"
   ]
  },
  {
   "cell_type": "code",
   "execution_count": 2,
   "metadata": {},
   "outputs": [],
   "source": [
    "def Model():\n",
    "    model = Sequential()\n",
    "    model.add(layers.Conv2D(32, (3, 3),padding = 'same', activation='relu', input_shape=(28,28,1)))\n",
    "    model.add(layers.MaxPooling2D((2, 2)))\n",
    "    model.add(layers.Dropout(0.3))\n",
    "    model.add(layers.Conv2D(64, (3, 3),padding = 'same',  activation='relu'))\n",
    "    model.add(layers.MaxPooling2D((2, 2)))\n",
    "    model.add(layers.Dropout(0.2))\n",
    "    model.add(layers.Conv2D(64, (3, 3),padding = 'same',  activation='relu'))\n",
    "    model.add(layers.Flatten())\n",
    "    model.add(layers.Dense((128),activation='relu'))\n",
    "    model.add(layers.Dropout(0.3))\n",
    "    model.add(layers.Dense((25),activation='softmax'))\n",
    "    \n",
    "    return model"
   ]
  },
  {
   "cell_type": "code",
   "execution_count": 3,
   "metadata": {},
   "outputs": [],
   "source": [
    "model = Model()"
   ]
  },
  {
   "cell_type": "code",
   "execution_count": 4,
   "metadata": {},
   "outputs": [],
   "source": [
    "model.load_weights('trained_model.h5')"
   ]
  },
  {
   "cell_type": "code",
   "execution_count": 5,
   "metadata": {},
   "outputs": [],
   "source": [
    "import pandas as pd\n",
    "import numpy as np"
   ]
  },
  {
   "cell_type": "code",
   "execution_count": 6,
   "metadata": {},
   "outputs": [],
   "source": [
    "def num_to_txt(n):\n",
    "    if n==0:\n",
    "        return 'a'\n",
    "    elif n==1:\n",
    "        return 'b'\n",
    "    elif n==2:\n",
    "        return 'c'\n",
    "    elif n==3:\n",
    "        return 'd'\n",
    "    elif n==4:\n",
    "        return 'e'\n",
    "    elif n==5:\n",
    "        return 'f'\n",
    "    elif n==6:\n",
    "        return 'g'\n",
    "    elif n==7:\n",
    "        return 'h'\n",
    "    elif n==8:\n",
    "        return 'i'\n",
    "    elif n==10:\n",
    "        return 'k'\n",
    "    elif n==11:\n",
    "        return 'l'\n",
    "    elif n==12:\n",
    "        return 'm'\n",
    "    elif n==13:\n",
    "        return 'n'\n",
    "    elif n==14:\n",
    "        return 'o'\n",
    "    elif n==15:\n",
    "        return 'p'\n",
    "    elif n==16:\n",
    "        return 'q'\n",
    "    elif n==17:\n",
    "        return 'r'\n",
    "    elif n==18:\n",
    "        return 's'\n",
    "    elif n==19:\n",
    "        return 't'\n",
    "    elif n==20:\n",
    "        return 'u'\n",
    "    elif n==21:\n",
    "        return 'v'\n",
    "    elif n==22:\n",
    "        return 'w'\n",
    "    elif n==23:\n",
    "        return 'x'\n",
    "    else:\n",
    "        return 'y'"
   ]
  },
  {
   "cell_type": "code",
   "execution_count": 8,
   "metadata": {},
   "outputs": [],
   "source": [
    "cap = cv2.VideoCapture(0)\n",
    "fps = cap.get(cv2.CAP_PROP_FRAME_COUNT)\n",
    "while True:\n",
    "    ret, frame = cap.read()\n",
    "    frame = cv2.flip(frame, 1)\n",
    "    cv2.rectangle(frame,(0,200),(300,500),(255,0,0),4)\n",
    "    frame1 = frame[200:500,0:300]\n",
    "    cv2.cvtColor(frame1,cv2.COLOR_BGR2GRAY)\n",
    "    frame1 = frame1[:,:,2:]\n",
    "    frame1 = cv2.resize(frame1,(28,28))\n",
    "    frame1 = frame1.reshape(1,28,28,1)\n",
    "    num = model.predict_classes(frame1)\n",
    "    txt = num_to_txt(num)\n",
    "    cv2.putText(frame,txt,org=(100,200), fontFace=cv2.FONT_HERSHEY_SIMPLEX,fontScale= 5,color=(0,255,0),thickness=2,lineType=cv2.LINE_AA)\n",
    "    cv2.imshow('frame',frame)\n",
    "    if cv2.waitKey(1) & 0xFF == ord('q'):\n",
    "        break\n",
    "        \n",
    "cap.release()\n",
    "cv2.destroyAllWindows()"
   ]
  },
  {
   "cell_type": "code",
   "execution_count": null,
   "metadata": {},
   "outputs": [],
   "source": []
  }
 ],
 "metadata": {
  "kernelspec": {
   "display_name": "Python 3",
   "language": "python",
   "name": "python3"
  },
  "language_info": {
   "codemirror_mode": {
    "name": "ipython",
    "version": 3
   },
   "file_extension": ".py",
   "mimetype": "text/x-python",
   "name": "python",
   "nbconvert_exporter": "python",
   "pygments_lexer": "ipython3",
   "version": "3.6.6"
  }
 },
 "nbformat": 4,
 "nbformat_minor": 2
}
